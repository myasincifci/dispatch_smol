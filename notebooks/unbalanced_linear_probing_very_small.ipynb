{
 "cells": [
  {
   "cell_type": "code",
   "execution_count": 1,
   "metadata": {},
   "outputs": [],
   "source": [
    "from typing import Any, OrderedDict, List, Dict\n",
    "import torch\n",
    "from torch import nn\n",
    "from torch.utils.data import Dataset, DataLoader\n",
    "from torchvision.models.resnet import resnet50\n",
    "from torchvision.transforms import v2 as T\n",
    "import matplotlib.pyplot as plt\n",
    "import json\n",
    "from torchmetrics import Accuracy\n",
    "from lightly.transforms.utils import IMAGENET_NORMALIZE\n",
    "from PIL import Image"
   ]
  },
  {
   "cell_type": "markdown",
   "metadata": {},
   "source": [
    "## Load Data"
   ]
  },
  {
   "cell_type": "code",
   "execution_count": 2,
   "metadata": {},
   "outputs": [],
   "source": [
    "class ImageDataset(Dataset):\n",
    "    def __init__(self, set_map: List[Dict], transform=None) -> None:\n",
    "        ''' Each item in set_map is expected to contain:\n",
    "                img_path: Full path to image,\n",
    "                label: Label corresponding to image at img_path\n",
    "        '''\n",
    "\n",
    "        self.set_map = set_map\n",
    "        self.transform=transform\n",
    "\n",
    "    def __len__(self):\n",
    "        return len(self.set_map)\n",
    "    \n",
    "    def __getitem__(self, index):   \n",
    "        sample = self.set_map[index]\n",
    "\n",
    "        # image = read_image(sample['img_path'])\n",
    "        image = Image.open(sample['img_path'])\n",
    "\n",
    "        if self.transform:\n",
    "            image = self.transform(image)\n",
    "\n",
    "        return dict(image=image, **sample)"
   ]
  },
  {
   "cell_type": "code",
   "execution_count": 3,
   "metadata": {},
   "outputs": [],
   "source": [
    "with open('./data/train_unbalanced_very_small.json', 'r') as file:\n",
    "    train_set_map = json.load(file)"
   ]
  },
  {
   "cell_type": "code",
   "execution_count": 4,
   "metadata": {},
   "outputs": [],
   "source": [
    "with open('./data/test_unbalanced.json', 'r') as file:\n",
    "    test_set_map = json.load(file)"
   ]
  },
  {
   "cell_type": "code",
   "execution_count": 5,
   "metadata": {},
   "outputs": [],
   "source": [
    "label_map = {\n",
    "    'DG': 0,\n",
    "    'PH': 1,\n",
    "    'EH': 2,\n",
    "    'G': 3\n",
    "}\n",
    "\n",
    "domain_map = {\n",
    "    'cartoon': 0,\n",
    "    'art_painting': 1,\n",
    "    'photo': 2,\n",
    "}"
   ]
  },
  {
   "cell_type": "code",
   "execution_count": 6,
   "metadata": {},
   "outputs": [],
   "source": [
    "for elem in train_set_map:\n",
    "    elem['label'] = label_map[elem['label']]\n",
    "for elem in test_set_map:\n",
    "    elem['label'] = label_map[elem['label']]"
   ]
  },
  {
   "cell_type": "code",
   "execution_count": 7,
   "metadata": {},
   "outputs": [
    {
     "name": "stderr",
     "output_type": "stream",
     "text": [
      "/home/yasin/miniforge3/lib/python3.10/site-packages/torchvision/transforms/v2/_deprecated.py:42: UserWarning: The transform `ToTensor()` is deprecated and will be removed in a future release. Instead, please use `v2.Compose([v2.ToImage(), v2.ToDtype(torch.float32, scale=True)])`.Output is equivalent up to float precision.\n",
      "  warnings.warn(\n"
     ]
    }
   ],
   "source": [
    "transform = T.Compose([\n",
    "    T.Resize(96),\n",
    "    T.ToTensor(),\n",
    "    T.Normalize(\n",
    "        mean=IMAGENET_NORMALIZE[\"mean\"],\n",
    "        std=IMAGENET_NORMALIZE[\"std\"],\n",
    "    ),\n",
    "])"
   ]
  },
  {
   "cell_type": "code",
   "execution_count": 8,
   "metadata": {},
   "outputs": [],
   "source": [
    "train_set = ImageDataset(train_set_map, transform=transform)\n",
    "test_set = ImageDataset(test_set_map, transform=transform)"
   ]
  },
  {
   "cell_type": "code",
   "execution_count": 9,
   "metadata": {},
   "outputs": [],
   "source": [
    "train_loader = DataLoader(train_set, batch_size=256, shuffle=True, num_workers=4, persistent_workers=True, pin_memory=True)\n",
    "test_loader = DataLoader(test_set, batch_size=256, shuffle=False, num_workers=4, persistent_workers=True, pin_memory=True)"
   ]
  },
  {
   "cell_type": "markdown",
   "metadata": {},
   "source": [
    "## Validate Data"
   ]
  },
  {
   "cell_type": "code",
   "execution_count": 10,
   "metadata": {},
   "outputs": [],
   "source": [
    "stats = {}\n",
    "for elem in train_set_map:\n",
    "    domain = elem['domain']\n",
    "    label = elem['label']\n",
    "\n",
    "    if domain not in stats.keys() :\n",
    "        stats[domain] = {}\n",
    "\n",
    "    if label not in stats[domain].keys():\n",
    "        stats[domain][label] = 1\n",
    "    else:\n",
    "        stats[domain][label] += 1"
   ]
  },
  {
   "cell_type": "code",
   "execution_count": 11,
   "metadata": {},
   "outputs": [
    {
     "data": {
      "text/plain": [
       "{'sketch': {3: 50, 0: 5, 1: 5, 2: 5},\n",
       " 'cartoon': {2: 50, 3: 5, 1: 5, 0: 5},\n",
       " 'art_painting': {0: 50, 2: 5, 1: 5, 3: 5},\n",
       " 'photo': {1: 50, 0: 5, 2: 5, 3: 5}}"
      ]
     },
     "execution_count": 11,
     "metadata": {},
     "output_type": "execute_result"
    }
   ],
   "source": [
    "stats"
   ]
  },
  {
   "cell_type": "code",
   "execution_count": 12,
   "metadata": {},
   "outputs": [],
   "source": [
    "stats = {}\n",
    "for elem in test_set_map:\n",
    "    domain = elem['domain']\n",
    "    label = elem['label']\n",
    "\n",
    "    if domain not in stats.keys() :\n",
    "        stats[domain] = {}\n",
    "\n",
    "    if label not in stats[domain].keys():\n",
    "        stats[domain][label] = 1\n",
    "    else:\n",
    "        stats[domain][label] += 1"
   ]
  },
  {
   "cell_type": "code",
   "execution_count": 13,
   "metadata": {},
   "outputs": [
    {
     "data": {
      "text/plain": [
       "{'art_painting': {1: 74, 2: 48, 0: 79, 3: 16},\n",
       " 'sketch': {0: 144, 3: 58, 2: 145, 1: 19},\n",
       " 'photo': {2: 37, 1: 65, 0: 47, 3: 19},\n",
       " 'cartoon': {0: 83, 2: 78, 3: 12, 1: 76}}"
      ]
     },
     "execution_count": 13,
     "metadata": {},
     "output_type": "execute_result"
    }
   ],
   "source": [
    "stats"
   ]
  },
  {
   "cell_type": "markdown",
   "metadata": {},
   "source": [
    "## Train Models"
   ]
  },
  {
   "cell_type": "code",
   "execution_count": 14,
   "metadata": {},
   "outputs": [],
   "source": [
    "import pytorch_lightning as L"
   ]
  },
  {
   "cell_type": "code",
   "execution_count": 15,
   "metadata": {},
   "outputs": [],
   "source": [
    "from typing import Any\n",
    "\n",
    "\n",
    "class LinearProbe(L.LightningModule):\n",
    "    def __init__(self, backbone, emb_dim, num_classes, lr=1e-2) -> None:\n",
    "        super().__init__()\n",
    "        \n",
    "        self.backbone: nn.Module = backbone\n",
    "        for param in self.backbone.parameters():\n",
    "            param.requires_grad = False\n",
    "\n",
    "        self.linear_head: nn.Module = nn.Linear(emb_dim, num_classes)\n",
    "        self.criterion = nn.CrossEntropyLoss()\n",
    "        self.lr = lr\n",
    "\n",
    "        self.test_accuracy = Accuracy(task='multiclass', num_classes=num_classes)\n",
    "\n",
    "    def forward(self, x):\n",
    "        x = self.backbone(x)\n",
    "        x = self.linear_head(x)\n",
    "\n",
    "        return x\n",
    "\n",
    "    def training_step(self, batch, bacth_idx):\n",
    "        X = batch['image']\n",
    "        t = batch['label']\n",
    "\n",
    "        y = self.forward(X)\n",
    "        loss = self.criterion(y, t)\n",
    "\n",
    "        print(loss.item())\n",
    "\n",
    "        return loss\n",
    "    \n",
    "    def test_step(self, batch, batch_idx):\n",
    "        X = batch['image']\n",
    "        t = batch['label']\n",
    "\n",
    "        y = self.forward(X)\n",
    "        acc = self.test_accuracy(y, t)\n",
    "\n",
    "        self.log('accuracy', acc, on_epoch=True)\n",
    "\n",
    "    def configure_optimizers(self):\n",
    "        return torch.optim.Adam(self.linear_head.parameters(), lr=self.lr)"
   ]
  },
  {
   "cell_type": "code",
   "execution_count": 16,
   "metadata": {},
   "outputs": [],
   "source": [
    "def get_backbone_from_ckpt(ckpt_path: str) -> torch.nn.Module:\n",
    "    state_dict = torch.load(ckpt_path)[\"state_dict\"]\n",
    "    state_dict = OrderedDict([\n",
    "        (\".\".join(name.split(\".\")[1:]), param) for name, param in state_dict.items() if name.startswith(\"backbone\")\n",
    "    ])\n",
    "\n",
    "    return state_dict"
   ]
  },
  {
   "cell_type": "code",
   "execution_count": 17,
   "metadata": {},
   "outputs": [],
   "source": [
    "# Baseline Model\n",
    "model_bl  = resnet50()\n",
    "weights_bl = get_backbone_from_ckpt(\"./data/r50_bl.ckpt\")\n",
    "model_bl.load_state_dict(weights_bl, strict=False)\n",
    "model_bl.fc = torch.nn.Identity()\n",
    "model_bl = model_bl.cuda()"
   ]
  },
  {
   "cell_type": "code",
   "execution_count": 18,
   "metadata": {},
   "outputs": [],
   "source": [
    "# MixStyle Model\n",
    "model_ms  = resnet50()\n",
    "weights_ms = get_backbone_from_ckpt(\"./data/r50_ms.ckpt\")\n",
    "model_ms.load_state_dict(weights_ms, strict=False)\n",
    "model_ms.fc = torch.nn.Identity()\n",
    "model_ms = model_ms.cuda()"
   ]
  },
  {
   "cell_type": "code",
   "execution_count": 19,
   "metadata": {},
   "outputs": [],
   "source": [
    "baseline_module = LinearProbe(model_bl, emb_dim=2048, num_classes=4)"
   ]
  },
  {
   "cell_type": "code",
   "execution_count": 20,
   "metadata": {},
   "outputs": [],
   "source": [
    "mixstyle_module = LinearProbe(model_ms, emb_dim=2048, num_classes=4)"
   ]
  },
  {
   "cell_type": "code",
   "execution_count": 21,
   "metadata": {},
   "outputs": [
    {
     "name": "stderr",
     "output_type": "stream",
     "text": [
      "GPU available: True (cuda), used: True\n",
      "TPU available: False, using: 0 TPU cores\n",
      "IPU available: False, using: 0 IPUs\n",
      "HPU available: False, using: 0 HPUs\n"
     ]
    }
   ],
   "source": [
    "trainer = L.Trainer(\n",
    "    max_epochs=100\n",
    ")"
   ]
  },
  {
   "cell_type": "code",
   "execution_count": 22,
   "metadata": {},
   "outputs": [
    {
     "name": "stderr",
     "output_type": "stream",
     "text": [
      "LOCAL_RANK: 0 - CUDA_VISIBLE_DEVICES: [0]\n",
      "\n",
      "  | Name          | Type               | Params\n",
      "-----------------------------------------------------\n",
      "0 | backbone      | ResNet             | 23.5 M\n",
      "1 | linear_head   | Linear             | 8.2 K \n",
      "2 | criterion     | CrossEntropyLoss   | 0     \n",
      "3 | test_accuracy | MulticlassAccuracy | 0     \n",
      "-----------------------------------------------------\n",
      "8.2 K     Trainable params\n",
      "23.5 M    Non-trainable params\n",
      "23.5 M    Total params\n",
      "94.065    Total estimated model params size (MB)\n",
      "/home/yasin/miniforge3/lib/python3.10/site-packages/pytorch_lightning/loops/fit_loop.py:298: The number of training batches (2) is smaller than the logging interval Trainer(log_every_n_steps=50). Set a lower value for log_every_n_steps if you want to see logs for the training epoch.\n"
     ]
    },
    {
     "data": {
      "application/vnd.jupyter.widget-view+json": {
       "model_id": "b44d7acc8dcc47f7aacb2fff6a963a22",
       "version_major": 2,
       "version_minor": 0
      },
      "text/plain": [
       "Training: |          | 0/? [00:00<?, ?it/s]"
      ]
     },
     "metadata": {},
     "output_type": "display_data"
    },
    {
     "name": "stdout",
     "output_type": "stream",
     "text": [
      "1.3903435468673706\n",
      "1.2639068365097046\n"
     ]
    },
    {
     "name": "stderr",
     "output_type": "stream",
     "text": [
      "/home/yasin/miniforge3/lib/python3.10/site-packages/torch/nn/modules/conv.py:456: UserWarning: Plan failed with a cudnnException: CUDNN_BACKEND_EXECUTION_PLAN_DESCRIPTOR: cudnnFinalize Descriptor Failed cudnn_status: CUDNN_STATUS_NOT_SUPPORTED (Triggered internally at ../aten/src/ATen/native/cudnn/Conv_v8.cpp:919.)\n",
      "  return F.conv2d(input, weight, bias, self.stride,\n"
     ]
    },
    {
     "name": "stdout",
     "output_type": "stream",
     "text": [
      "0.11688028275966644\n",
      "2.072842597961426\n",
      "0.08761341869831085\n",
      "0.9189549684524536\n",
      "0.059164997190237045\n",
      "2.3881659507751465\n",
      "0.03165382146835327\n",
      "0.9215320348739624\n",
      "0.03161342069506645\n",
      "1.1259526014328003\n",
      "0.021733077242970467\n",
      "0.4568440914154053\n",
      "0.017345398664474487\n",
      "0.03896041586995125\n",
      "0.012482442893087864\n",
      "0.7131595611572266\n",
      "0.008767941035330296\n",
      "0.10671869665384293\n",
      "0.00663231173530221\n",
      "0.7038658261299133\n",
      "0.006965999491512775\n",
      "0.03474665433168411\n",
      "0.0075155459344387054\n",
      "0.19189833104610443\n",
      "0.007068257313221693\n",
      "0.9816043972969055\n",
      "0.0052511547692120075\n",
      "3.9442901611328125\n",
      "0.0030597499571740627\n",
      "0.41469380259513855\n",
      "0.003027590224519372\n",
      "0.486926406621933\n",
      "0.0046652499586343765\n",
      "0.16839459538459778\n",
      "0.016227962449193\n",
      "2.2377185821533203\n",
      "0.02581632137298584\n",
      "2.5067853927612305\n",
      "0.019598474726080894\n",
      "0.48270222544670105\n",
      "0.021692395210266113\n",
      "0.526721179485321\n",
      "0.023070983588695526\n",
      "0.3656836450099945\n",
      "0.02403692901134491\n",
      "0.5113111734390259\n",
      "0.02647371031343937\n",
      "0.4471747577190399\n",
      "0.02946171909570694\n",
      "0.010679936967790127\n",
      "0.032702039927244186\n",
      "0.4567490816116333\n",
      "0.024694789201021194\n",
      "1.7584952116012573\n",
      "0.020185992121696472\n",
      "0.2624080181121826\n",
      "0.00784424040466547\n",
      "1.967405080795288\n",
      "0.010027147829532623\n",
      "0.2664335370063782\n",
      "0.01921599917113781\n",
      "0.19165098667144775\n",
      "0.02760574035346508\n",
      "0.007567519322037697\n",
      "0.036408744752407074\n",
      "0.6303002834320068\n",
      "0.03936859965324402\n",
      "2.243452310562134\n",
      "0.032048337161540985\n",
      "0.0325750857591629\n",
      "0.01477257814258337\n",
      "0.050305284559726715\n",
      "0.004914214834570885\n",
      "0.16100673377513885\n",
      "0.0012271592859178782\n",
      "0.10412683337926865\n",
      "0.0007640961557626724\n",
      "0.5655706524848938\n",
      "0.0007807307410985231\n",
      "0.029503921046853065\n",
      "0.0021244962699711323\n",
      "0.002342754742130637\n",
      "0.00561361713334918\n",
      "0.08224041014909744\n",
      "0.006744200363755226\n",
      "0.15858837962150574\n",
      "0.007013484835624695\n",
      "0.1964082270860672\n",
      "0.006086694076657295\n",
      "0.15807513892650604\n",
      "0.0032862008083611727\n",
      "0.9182496666908264\n",
      "0.0016279509291052818\n",
      "0.02860948257148266\n",
      "0.0009859937708824873\n",
      "0.8237797617912292\n",
      "0.0006477422430180013\n",
      "0.003674693638458848\n",
      "0.0009867575718089938\n",
      "0.2377515435218811\n",
      "0.0016634147614240646\n",
      "0.07367609441280365\n",
      "0.003115287749096751\n",
      "2.2429137229919434\n",
      "0.0022424121852964163\n",
      "0.7135189771652222\n",
      "0.0008412119932472706\n",
      "0.00723858829587698\n",
      "0.0006598969339393079\n",
      "0.20250488817691803\n",
      "0.0008727773674763739\n",
      "0.08168639242649078\n",
      "0.0013784156180918217\n",
      "0.0015925297047942877\n",
      "0.002425207057967782\n",
      "0.011102205142378807\n",
      "0.0030926361214369535\n",
      "0.25194087624549866\n",
      "0.0034603329841047525\n",
      "1.2652837038040161\n",
      "0.0037497798912227154\n",
      "0.01081807166337967\n",
      "0.004150751978158951\n",
      "0.9219740033149719\n",
      "0.005700109526515007\n",
      "0.028580449521541595\n",
      "0.006827581208199263\n",
      "0.2902146875858307\n",
      "0.010259583592414856\n",
      "0.004529774654656649\n",
      "0.01423100009560585\n",
      "0.26188308000564575\n",
      "0.015847427770495415\n",
      "0.006316504441201687\n",
      "0.01338418573141098\n",
      "0.06127563863992691\n",
      "0.011657175607979298\n",
      "2.3453972971765324e-05\n",
      "0.00961326528340578\n",
      "0.18355853855609894\n",
      "0.00793679989874363\n",
      "0.5594696998596191\n",
      "0.004288408439606428\n",
      "0.42714595794677734\n",
      "0.005265304818749428\n",
      "1.0526567697525024\n",
      "0.0039668153040111065\n",
      "0.0964093804359436\n",
      "0.007024172227829695\n",
      "2.241161346435547\n",
      "0.002542079659178853\n",
      "0.1168980821967125\n",
      "0.0021603135392069817\n",
      "1.2704503536224365\n",
      "0.00698518380522728\n",
      "0.9218716621398926\n",
      "0.008511418476700783\n",
      "0.7752335071563721\n",
      "0.011757624335587025\n",
      "0.6212566494941711\n",
      "0.0046180374920368195\n",
      "0.14459672570228577\n",
      "0.002163264201954007\n",
      "1.1763362884521484\n",
      "0.0019643576815724373\n",
      "0.05054454877972603\n",
      "0.0044257245026528835\n",
      "0.08596145361661911\n",
      "0.0077319336123764515\n",
      "0.020329134538769722\n",
      "0.011539599858224392\n",
      "0.2769193649291992\n",
      "0.012801923789083958\n",
      "0.26929208636283875\n",
      "0.015401982702314854\n",
      "0.011358169838786125\n",
      "0.010960819199681282\n",
      "0.006206994876265526\n",
      "0.008074099197983742\n",
      "0.02919142320752144\n",
      "0.005121976602822542\n",
      "0.16356465220451355\n",
      "0.0030750453006476164\n",
      "0.05361798405647278\n",
      "0.0025629657320678234\n",
      "0.13858714699745178\n",
      "0.0017185367178171873\n",
      "0.009197868406772614\n",
      "0.0015011498471722007\n",
      "0.19173912703990936\n",
      "0.0014223860343918204\n",
      "1.1119892597198486\n",
      "0.0010375052224844694\n",
      "0.027466686442494392\n",
      "0.0011292491108179092\n",
      "0.002303152345120907\n",
      "0.0011037258664146066\n",
      "0.0804687887430191\n"
     ]
    },
    {
     "name": "stderr",
     "output_type": "stream",
     "text": [
      "`Trainer.fit` stopped: `max_epochs=100` reached.\n"
     ]
    }
   ],
   "source": [
    "trainer.fit(baseline_module, train_loader)"
   ]
  },
  {
   "cell_type": "code",
   "execution_count": 23,
   "metadata": {},
   "outputs": [
    {
     "name": "stderr",
     "output_type": "stream",
     "text": [
      "LOCAL_RANK: 0 - CUDA_VISIBLE_DEVICES: [0]\n",
      "/home/yasin/miniforge3/lib/python3.10/site-packages/pytorch_lightning/trainer/connectors/data_connector.py:492: Your `test_dataloader`'s sampler has shuffling enabled, it is strongly recommended that you turn shuffling off for val/test dataloaders.\n"
     ]
    },
    {
     "data": {
      "application/vnd.jupyter.widget-view+json": {
       "model_id": "08d12f328aa149f193e5251af3198104",
       "version_major": 2,
       "version_minor": 0
      },
      "text/plain": [
       "Testing: |          | 0/? [00:00<?, ?it/s]"
      ]
     },
     "metadata": {},
     "output_type": "display_data"
    },
    {
     "name": "stderr",
     "output_type": "stream",
     "text": [
      "/home/yasin/miniforge3/lib/python3.10/site-packages/pytorch_lightning/utilities/data.py:77: Trying to infer the `batch_size` from an ambiguous collection. The batch size we found is 256. To avoid any miscalculations, use `self.log(..., batch_size=batch_size)`.\n",
      "/home/yasin/miniforge3/lib/python3.10/site-packages/pytorch_lightning/utilities/data.py:77: Trying to infer the `batch_size` from an ambiguous collection. The batch size we found is 4. To avoid any miscalculations, use `self.log(..., batch_size=batch_size)`.\n"
     ]
    },
    {
     "data": {
      "text/html": [
       "<pre style=\"white-space:pre;overflow-x:auto;line-height:normal;font-family:Menlo,'DejaVu Sans Mono',consolas,'Courier New',monospace\">┏━━━━━━━━━━━━━━━━━━━━━━━━━━━┳━━━━━━━━━━━━━━━━━━━━━━━━━━━┓\n",
       "┃<span style=\"font-weight: bold\">        Test metric        </span>┃<span style=\"font-weight: bold\">       DataLoader 0        </span>┃\n",
       "┡━━━━━━━━━━━━━━━━━━━━━━━━━━━╇━━━━━━━━━━━━━━━━━━━━━━━━━━━┩\n",
       "│<span style=\"color: #008080; text-decoration-color: #008080\">         accuracy          </span>│<span style=\"color: #800080; text-decoration-color: #800080\">            1.0            </span>│\n",
       "└───────────────────────────┴───────────────────────────┘\n",
       "</pre>\n"
      ],
      "text/plain": [
       "┏━━━━━━━━━━━━━━━━━━━━━━━━━━━┳━━━━━━━━━━━━━━━━━━━━━━━━━━━┓\n",
       "┃\u001b[1m \u001b[0m\u001b[1m       Test metric       \u001b[0m\u001b[1m \u001b[0m┃\u001b[1m \u001b[0m\u001b[1m      DataLoader 0       \u001b[0m\u001b[1m \u001b[0m┃\n",
       "┡━━━━━━━━━━━━━━━━━━━━━━━━━━━╇━━━━━━━━━━━━━━━━━━━━━━━━━━━┩\n",
       "│\u001b[36m \u001b[0m\u001b[36m        accuracy         \u001b[0m\u001b[36m \u001b[0m│\u001b[35m \u001b[0m\u001b[35m           1.0           \u001b[0m\u001b[35m \u001b[0m│\n",
       "└───────────────────────────┴───────────────────────────┘\n"
      ]
     },
     "metadata": {},
     "output_type": "display_data"
    },
    {
     "data": {
      "text/plain": [
       "[{'accuracy': 1.0}]"
      ]
     },
     "execution_count": 23,
     "metadata": {},
     "output_type": "execute_result"
    }
   ],
   "source": [
    "trainer.test(baseline_module, dataloaders=train_loader)"
   ]
  },
  {
   "cell_type": "code",
   "execution_count": 24,
   "metadata": {},
   "outputs": [
    {
     "name": "stderr",
     "output_type": "stream",
     "text": [
      "LOCAL_RANK: 0 - CUDA_VISIBLE_DEVICES: [0]\n"
     ]
    },
    {
     "data": {
      "application/vnd.jupyter.widget-view+json": {
       "model_id": "2272046cbe894c2e89c4077055ca61b0",
       "version_major": 2,
       "version_minor": 0
      },
      "text/plain": [
       "Testing: |          | 0/? [00:00<?, ?it/s]"
      ]
     },
     "metadata": {},
     "output_type": "display_data"
    },
    {
     "name": "stderr",
     "output_type": "stream",
     "text": [
      "/home/yasin/miniforge3/lib/python3.10/site-packages/pytorch_lightning/utilities/data.py:77: Trying to infer the `batch_size` from an ambiguous collection. The batch size we found is 232. To avoid any miscalculations, use `self.log(..., batch_size=batch_size)`.\n"
     ]
    },
    {
     "data": {
      "text/html": [
       "<pre style=\"white-space:pre;overflow-x:auto;line-height:normal;font-family:Menlo,'DejaVu Sans Mono',consolas,'Courier New',monospace\">┏━━━━━━━━━━━━━━━━━━━━━━━━━━━┳━━━━━━━━━━━━━━━━━━━━━━━━━━━┓\n",
       "┃<span style=\"font-weight: bold\">        Test metric        </span>┃<span style=\"font-weight: bold\">       DataLoader 0        </span>┃\n",
       "┡━━━━━━━━━━━━━━━━━━━━━━━━━━━╇━━━━━━━━━━━━━━━━━━━━━━━━━━━┩\n",
       "│<span style=\"color: #008080; text-decoration-color: #008080\">         accuracy          </span>│<span style=\"color: #800080; text-decoration-color: #800080\">    0.7010000348091125     </span>│\n",
       "└───────────────────────────┴───────────────────────────┘\n",
       "</pre>\n"
      ],
      "text/plain": [
       "┏━━━━━━━━━━━━━━━━━━━━━━━━━━━┳━━━━━━━━━━━━━━━━━━━━━━━━━━━┓\n",
       "┃\u001b[1m \u001b[0m\u001b[1m       Test metric       \u001b[0m\u001b[1m \u001b[0m┃\u001b[1m \u001b[0m\u001b[1m      DataLoader 0       \u001b[0m\u001b[1m \u001b[0m┃\n",
       "┡━━━━━━━━━━━━━━━━━━━━━━━━━━━╇━━━━━━━━━━━━━━━━━━━━━━━━━━━┩\n",
       "│\u001b[36m \u001b[0m\u001b[36m        accuracy         \u001b[0m\u001b[36m \u001b[0m│\u001b[35m \u001b[0m\u001b[35m   0.7010000348091125    \u001b[0m\u001b[35m \u001b[0m│\n",
       "└───────────────────────────┴───────────────────────────┘\n"
      ]
     },
     "metadata": {},
     "output_type": "display_data"
    },
    {
     "data": {
      "text/plain": [
       "[{'accuracy': 0.7010000348091125}]"
      ]
     },
     "execution_count": 24,
     "metadata": {},
     "output_type": "execute_result"
    }
   ],
   "source": [
    "trainer.test(baseline_module, dataloaders=test_loader)"
   ]
  },
  {
   "cell_type": "code",
   "execution_count": 25,
   "metadata": {},
   "outputs": [
    {
     "name": "stderr",
     "output_type": "stream",
     "text": [
      "GPU available: True (cuda), used: True\n",
      "TPU available: False, using: 0 TPU cores\n",
      "IPU available: False, using: 0 IPUs\n"
     ]
    },
    {
     "name": "stderr",
     "output_type": "stream",
     "text": [
      "HPU available: False, using: 0 HPUs\n"
     ]
    }
   ],
   "source": [
    "trainer = L.Trainer(\n",
    "    max_epochs=100\n",
    ")"
   ]
  },
  {
   "cell_type": "code",
   "execution_count": 26,
   "metadata": {},
   "outputs": [
    {
     "name": "stderr",
     "output_type": "stream",
     "text": [
      "LOCAL_RANK: 0 - CUDA_VISIBLE_DEVICES: [0]\n",
      "\n",
      "  | Name          | Type               | Params\n",
      "-----------------------------------------------------\n",
      "0 | backbone      | ResNet             | 23.5 M\n",
      "1 | linear_head   | Linear             | 8.2 K \n",
      "2 | criterion     | CrossEntropyLoss   | 0     \n",
      "3 | test_accuracy | MulticlassAccuracy | 0     \n",
      "-----------------------------------------------------\n",
      "8.2 K     Trainable params\n",
      "23.5 M    Non-trainable params\n",
      "23.5 M    Total params\n",
      "94.065    Total estimated model params size (MB)\n"
     ]
    },
    {
     "data": {
      "application/vnd.jupyter.widget-view+json": {
       "model_id": "c1b12a236fd34ccfab2cc9d4dc558f4f",
       "version_major": 2,
       "version_minor": 0
      },
      "text/plain": [
       "Training: |          | 0/? [00:00<?, ?it/s]"
      ]
     },
     "metadata": {},
     "output_type": "display_data"
    },
    {
     "name": "stdout",
     "output_type": "stream",
     "text": [
      "1.4381405115127563\n",
      "0.6636995077133179\n",
      "0.2084096372127533\n",
      "0.46304795145988464\n",
      "0.13636913895606995\n",
      "0.6974202394485474\n",
      "0.1071188673377037\n",
      "0.45885422825813293\n",
      "0.11452701687812805\n",
      "0.008327136747539043\n",
      "0.13218586146831512\n",
      "0.7444600462913513\n",
      "0.13092969357967377\n",
      "0.22253456711769104\n",
      "0.12248586118221283\n",
      "0.03615006431937218\n",
      "0.10291966050863266\n",
      "2.8153107166290283\n",
      "0.08700162917375565\n",
      "0.0748133510351181\n",
      "0.07474224269390106\n",
      "0.019798224791884422\n",
      "0.06312409788370132\n",
      "0.4474676251411438\n",
      "0.06620737910270691\n",
      "0.040534909814596176\n",
      "0.0886840894818306\n",
      "0.029789771884679794\n",
      "0.1044788658618927\n",
      "0.7459955811500549\n",
      "0.08912854641675949\n",
      "3.7592458724975586\n",
      "0.05714767798781395\n",
      "0.9176340103149414\n",
      "0.04030672460794449\n",
      "1.7241359949111938\n",
      "0.0450095571577549\n",
      "0.19204632937908173\n",
      "0.05719238892197609\n",
      "0.029739178717136383\n",
      "0.06993184238672256\n",
      "1.9693630933761597\n",
      "0.06916210800409317\n",
      "1.7330913543701172\n",
      "0.06249166280031204\n",
      "0.3561953008174896\n",
      "0.04886876791715622\n",
      "0.009009949862957\n",
      "0.032691869884729385\n",
      "0.3601265549659729\n",
      "0.01939600147306919\n",
      "2.1143763065338135\n",
      "0.012649999000132084\n",
      "0.009914269670844078\n",
      "0.026507122442126274\n",
      "1.4796806573867798\n",
      "0.047405268996953964\n",
      "1.09818434715271\n",
      "0.0687217265367508\n",
      "0.0014102313434705138\n",
      "0.08225589990615845\n",
      "7.223441934911534e-05\n",
      "0.11061783134937286\n",
      "0.14747455716133118\n",
      "0.1042531430721283\n",
      "0.13220305740833282\n",
      "0.09124404191970825\n",
      "0.015743933618068695\n",
      "0.08330204337835312\n",
      "0.0013830014504492283\n",
      "0.07400909811258316\n",
      "0.921776533126831\n",
      "0.056956663727760315\n",
      "0.0008093236829154193\n",
      "0.030369678512215614\n",
      "2.176370859146118\n",
      "0.018541045486927032\n",
      "0.008105617947876453\n",
      "0.0068617919459939\n",
      "0.103923000395298\n",
      "0.006514421198517084\n",
      "0.17809714376926422\n",
      "0.024517951533198357\n",
      "0.19708125293254852\n",
      "0.05932863429188728\n",
      "0.795748233795166\n",
      "0.07862178981304169\n",
      "0.09160228073596954\n",
      "0.048651643097400665\n",
      "0.0005068138125352561\n",
      "0.032793935388326645\n",
      "1.369757890701294\n",
      "0.01805289462208748\n",
      "0.06058083847165108\n",
      "0.00720094284042716\n",
      "0.015586192719638348\n",
      "0.00868941005319357\n",
      "0.6494309306144714\n",
      "0.025505593046545982\n",
      "0.4573969841003418\n",
      "0.055661749094724655\n",
      "0.023604484274983406\n",
      "0.07673288136720657\n",
      "0.00042181165190413594\n",
      "0.06685920804738998\n",
      "0.05524981766939163\n",
      "0.06210235133767128\n",
      "0.5998523831367493\n",
      "0.03536823391914368\n",
      "0.010223723016679287\n",
      "0.01128054317086935\n",
      "1.3682818412780762\n",
      "0.007100466638803482\n",
      "0.3184923529624939\n",
      "0.006157981231808662\n",
      "0.7772133946418762\n",
      "0.004632335156202316\n",
      "0.6724103689193726\n",
      "0.0041858116164803505\n",
      "0.19637130200862885\n",
      "0.0045067984610795975\n",
      "0.3321448862552643\n",
      "0.005731393117457628\n",
      "0.36855548620224\n",
      "0.006822855677455664\n",
      "0.14530283212661743\n",
      "0.00673405546694994\n",
      "8.051482291193679e-05\n",
      "0.006746704690158367\n",
      "0.5370343327522278\n",
      "0.008394804783165455\n",
      "0.001742799417115748\n",
      "0.012106668204069138\n",
      "0.0002865649585146457\n",
      "0.012910551391541958\n",
      "0.09428287297487259\n",
      "0.016611671075224876\n",
      "0.02318398654460907\n",
      "0.015419723466038704\n",
      "0.11363089829683304\n",
      "0.017290813848376274\n",
      "1.0309582948684692\n",
      "0.01680004969239235\n",
      "0.5139400959014893\n",
      "0.015761861577630043\n",
      "3.3319709300994873\n",
      "0.0163026861846447\n",
      "0.5197468996047974\n",
      "0.013929232023656368\n",
      "0.597269594669342\n",
      "0.019271161407232285\n",
      "0.4354220926761627\n",
      "0.018046727403998375\n",
      "1.9198458194732666\n",
      "0.014373015612363815\n",
      "0.10383540391921997\n",
      "0.006155902985483408\n",
      "2.0540997982025146\n",
      "0.005278834607452154\n",
      "1.178382158279419\n",
      "0.01278366707265377\n",
      "0.1130392774939537\n",
      "0.032788511365652084\n",
      "0.00223152874968946\n",
      "0.053857382386922836\n",
      "0.09283462166786194\n",
      "0.08490109443664551\n",
      "0.1476517915725708\n",
      "0.09716562181711197\n",
      "0.000968883337918669\n",
      "0.11055482923984528\n",
      "0.0013305232860147953\n",
      "0.10467372834682465\n",
      "2.59039568901062\n",
      "0.09204805642366409\n",
      "0.004395166411995888\n",
      "0.06061766296625137\n",
      "1.4185184240341187\n",
      "0.0466238409280777\n",
      "0.014772125519812107\n",
      "0.037154670804739\n",
      "0.00021360440587159246\n",
      "0.025497352704405785\n",
      "0.4986453354358673\n",
      "0.014779455959796906\n",
      "1.2079297304153442\n",
      "0.004604074638336897\n",
      "1.6215795278549194\n",
      "0.013627049513161182\n",
      "0.0018931357190012932\n",
      "0.012934979982674122\n",
      "0.11201596260070801\n",
      "0.02785690687596798\n",
      "1.6512240171432495\n",
      "0.024498645216226578\n",
      "1.4736253023147583\n",
      "0.03659750521183014\n",
      "0.0004147627914790064\n",
      "0.036609623581171036\n",
      "2.18916654586792\n"
     ]
    },
    {
     "name": "stderr",
     "output_type": "stream",
     "text": [
      "`Trainer.fit` stopped: `max_epochs=100` reached.\n"
     ]
    }
   ],
   "source": [
    "trainer.fit(mixstyle_module, train_loader)"
   ]
  },
  {
   "cell_type": "code",
   "execution_count": 27,
   "metadata": {},
   "outputs": [
    {
     "name": "stderr",
     "output_type": "stream",
     "text": [
      "LOCAL_RANK: 0 - CUDA_VISIBLE_DEVICES: [0]\n"
     ]
    },
    {
     "data": {
      "application/vnd.jupyter.widget-view+json": {
       "model_id": "947e60bca12349a68f72353c8100d7ae",
       "version_major": 2,
       "version_minor": 0
      },
      "text/plain": [
       "Testing: |          | 0/? [00:00<?, ?it/s]"
      ]
     },
     "metadata": {},
     "output_type": "display_data"
    },
    {
     "data": {
      "text/html": [
       "<pre style=\"white-space:pre;overflow-x:auto;line-height:normal;font-family:Menlo,'DejaVu Sans Mono',consolas,'Courier New',monospace\">┏━━━━━━━━━━━━━━━━━━━━━━━━━━━┳━━━━━━━━━━━━━━━━━━━━━━━━━━━┓\n",
       "┃<span style=\"font-weight: bold\">        Test metric        </span>┃<span style=\"font-weight: bold\">       DataLoader 0        </span>┃\n",
       "┡━━━━━━━━━━━━━━━━━━━━━━━━━━━╇━━━━━━━━━━━━━━━━━━━━━━━━━━━┩\n",
       "│<span style=\"color: #008080; text-decoration-color: #008080\">         accuracy          </span>│<span style=\"color: #800080; text-decoration-color: #800080\">    0.9923076629638672     </span>│\n",
       "└───────────────────────────┴───────────────────────────┘\n",
       "</pre>\n"
      ],
      "text/plain": [
       "┏━━━━━━━━━━━━━━━━━━━━━━━━━━━┳━━━━━━━━━━━━━━━━━━━━━━━━━━━┓\n",
       "┃\u001b[1m \u001b[0m\u001b[1m       Test metric       \u001b[0m\u001b[1m \u001b[0m┃\u001b[1m \u001b[0m\u001b[1m      DataLoader 0       \u001b[0m\u001b[1m \u001b[0m┃\n",
       "┡━━━━━━━━━━━━━━━━━━━━━━━━━━━╇━━━━━━━━━━━━━━━━━━━━━━━━━━━┩\n",
       "│\u001b[36m \u001b[0m\u001b[36m        accuracy         \u001b[0m\u001b[36m \u001b[0m│\u001b[35m \u001b[0m\u001b[35m   0.9923076629638672    \u001b[0m\u001b[35m \u001b[0m│\n",
       "└───────────────────────────┴───────────────────────────┘\n"
      ]
     },
     "metadata": {},
     "output_type": "display_data"
    },
    {
     "data": {
      "text/plain": [
       "[{'accuracy': 0.9923076629638672}]"
      ]
     },
     "execution_count": 27,
     "metadata": {},
     "output_type": "execute_result"
    }
   ],
   "source": [
    "trainer.test(mixstyle_module, dataloaders=train_loader)"
   ]
  },
  {
   "cell_type": "code",
   "execution_count": 28,
   "metadata": {},
   "outputs": [
    {
     "name": "stderr",
     "output_type": "stream",
     "text": [
      "LOCAL_RANK: 0 - CUDA_VISIBLE_DEVICES: [0]\n"
     ]
    },
    {
     "data": {
      "application/vnd.jupyter.widget-view+json": {
       "model_id": "0b4480d36db045138474dcfc12f85a24",
       "version_major": 2,
       "version_minor": 0
      },
      "text/plain": [
       "Testing: |          | 0/? [00:00<?, ?it/s]"
      ]
     },
     "metadata": {},
     "output_type": "display_data"
    },
    {
     "data": {
      "text/html": [
       "<pre style=\"white-space:pre;overflow-x:auto;line-height:normal;font-family:Menlo,'DejaVu Sans Mono',consolas,'Courier New',monospace\">┏━━━━━━━━━━━━━━━━━━━━━━━━━━━┳━━━━━━━━━━━━━━━━━━━━━━━━━━━┓\n",
       "┃<span style=\"font-weight: bold\">        Test metric        </span>┃<span style=\"font-weight: bold\">       DataLoader 0        </span>┃\n",
       "┡━━━━━━━━━━━━━━━━━━━━━━━━━━━╇━━━━━━━━━━━━━━━━━━━━━━━━━━━┩\n",
       "│<span style=\"color: #008080; text-decoration-color: #008080\">         accuracy          </span>│<span style=\"color: #800080; text-decoration-color: #800080\">    0.7690000534057617     </span>│\n",
       "└───────────────────────────┴───────────────────────────┘\n",
       "</pre>\n"
      ],
      "text/plain": [
       "┏━━━━━━━━━━━━━━━━━━━━━━━━━━━┳━━━━━━━━━━━━━━━━━━━━━━━━━━━┓\n",
       "┃\u001b[1m \u001b[0m\u001b[1m       Test metric       \u001b[0m\u001b[1m \u001b[0m┃\u001b[1m \u001b[0m\u001b[1m      DataLoader 0       \u001b[0m\u001b[1m \u001b[0m┃\n",
       "┡━━━━━━━━━━━━━━━━━━━━━━━━━━━╇━━━━━━━━━━━━━━━━━━━━━━━━━━━┩\n",
       "│\u001b[36m \u001b[0m\u001b[36m        accuracy         \u001b[0m\u001b[36m \u001b[0m│\u001b[35m \u001b[0m\u001b[35m   0.7690000534057617    \u001b[0m\u001b[35m \u001b[0m│\n",
       "└───────────────────────────┴───────────────────────────┘\n"
      ]
     },
     "metadata": {},
     "output_type": "display_data"
    },
    {
     "data": {
      "text/plain": [
       "[{'accuracy': 0.7690000534057617}]"
      ]
     },
     "execution_count": 28,
     "metadata": {},
     "output_type": "execute_result"
    }
   ],
   "source": [
    "trainer.test(mixstyle_module, dataloaders=test_loader)"
   ]
  },
  {
   "cell_type": "code",
   "execution_count": 29,
   "metadata": {},
   "outputs": [],
   "source": [
    "import matplotlib.pyplot as plt"
   ]
  },
  {
   "cell_type": "code",
   "execution_count": 30,
   "metadata": {},
   "outputs": [],
   "source": [
    "baseline_scores = [83.5, 74.5, 70.1]\n",
    "mixstyel_scores = [86.3, 81.8, 76.9]"
   ]
  },
  {
   "cell_type": "code",
   "execution_count": 49,
   "metadata": {},
   "outputs": [
    {
     "data": {
      "text/plain": [
       "Text(0.5, 1.0, 'Unbalanced Linear Probing')"
      ]
     },
     "execution_count": 49,
     "metadata": {},
     "output_type": "execute_result"
    },
    {
     "data": {
      "image/png": "[encoded data removed]",
      "text/plain": [
       "<Figure size 640x480 with 1 Axes>"
      ]
     },
     "metadata": {},
     "output_type": "display_data"
    }
   ],
   "source": [
    "plt.plot(baseline_scores, label='Baseline', marker='o')\n",
    "plt.plot(mixstyel_scores, label='MixStyle', marker='o')\n",
    "plt.xticks([0, 1, 2], ['All (~600:60)', '100:10', '50:5'],\n",
    "       rotation=0)  # Set text labels and properties.\n",
    "plt.legend()\n",
    "plt.xlabel('Samples', fontsize=12)\n",
    "plt.ylabel('Accuracy(%)', fontsize=12)\n",
    "plt.grid()\n",
    "plt.title('Unbalanced Linear Probing')"
   ]
  },
  {
   "cell_type": "code",
   "execution_count": null,
   "metadata": {},
   "outputs": [],
   "source": []
  }
 ],
 "metadata": {
  "kernelspec": {
   "display_name": "base",
   "language": "python",
   "name": "python3"
  },
  "language_info": {
   "codemirror_mode": {
    "name": "ipython",
    "version": 3
   },
   "file_extension": ".py",
   "mimetype": "text/x-python",
   "name": "python",
   "nbconvert_exporter": "python",
   "pygments_lexer": "ipython3",
   "version": "3.10.14"
  }
 },
 "nbformat": 4,
 "nbformat_minor": 2
}
