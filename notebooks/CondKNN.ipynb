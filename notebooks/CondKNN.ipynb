{
 "cells": [
  {
   "cell_type": "markdown",
   "id": "67ff7bf5",
   "metadata": {},
   "source": [
    "## Retreaval"
   ]
  },
  {
   "cell_type": "code",
   "execution_count": 1,
   "id": "fd45fe51",
   "metadata": {},
   "outputs": [],
   "source": [
    "from typing import OrderedDict\n",
    "\n",
    "import torch\n",
    "import faiss\n",
    "from torchvision.models.resnet import resnet50, ResNet50_Weights\n",
    "from torchvision.transforms import v2 as T\n",
    "from torch.utils.data import Dataset, DataLoader\n",
    "from tqdm import tqdm\n",
    "\n",
    "import os\n",
    "import copy\n",
    "from typing import List, Dict, Optional\n",
    "from torch.utils.data import Dataset\n",
    "from PIL import Image\n",
    "\n",
    "import json\n",
    "from lightly.transforms.utils import IMAGENET_NORMALIZE"
   ]
  },
  {
   "cell_type": "code",
   "execution_count": 2,
   "id": "aa735c19",
   "metadata": {},
   "outputs": [],
   "source": [
    "BS = 64\n",
    "emb_dim = 2_048"
   ]
  },
  {
   "cell_type": "code",
   "execution_count": 3,
   "id": "2a076c72",
   "metadata": {},
   "outputs": [
    {
     "name": "stderr",
     "output_type": "stream",
     "text": [
      "/home/yasin/miniforge3/lib/python3.10/site-packages/torchvision/transforms/v2/_deprecated.py:42: UserWarning: The transform `ToTensor()` is deprecated and will be removed in a future release. Instead, please use `v2.Compose([v2.ToImage(), v2.ToDtype(torch.float32, scale=True)])`.Output is equivalent up to float precision.\n",
      "  warnings.warn(\n"
     ]
    }
   ],
   "source": [
    "transform = T.Compose([\n",
    "    T.Resize(96),\n",
    "    T.ToTensor(),\n",
    "    T.Normalize(\n",
    "        mean=IMAGENET_NORMALIZE[\"mean\"],\n",
    "        std=IMAGENET_NORMALIZE[\"std\"],\n",
    "    ),\n",
    "])"
   ]
  },
  {
   "cell_type": "code",
   "execution_count": 4,
   "id": "1acef97d",
   "metadata": {},
   "outputs": [],
   "source": [
    "classes = {\n",
    "    'dog': 0, \n",
    "    'giraffe': 1, \n",
    "    'guitar': 2, \n",
    "    'house': 3, \n",
    "    'person': 4, \n",
    "    'horse': 5, \n",
    "    'elephant': 6\n",
    "}\n",
    "\n",
    "domains = {\n",
    "    'sketch': 0, \n",
    "    'cartoon': 1, \n",
    "    'art_painting': 2, \n",
    "    'photo': 3\n",
    "}"
   ]
  },
  {
   "cell_type": "code",
   "execution_count": 5,
   "id": "0e51973f",
   "metadata": {},
   "outputs": [],
   "source": [
    "class ImageDataset(Dataset):\n",
    "    def __init__(self, data_path, set_map: List[Dict], transform=None, \n",
    "                 classes: Optional[Dict[str, int]] = None,\n",
    "                 domains: Optional[Dict[str, int]] = None) -> None:\n",
    "        ''' Each item in set_map is expected to contain:\n",
    "                img_path: Full path to image,\n",
    "                label: Label corresponding to image at img_path\n",
    "                domain: Domain corresponding to image at img_path\n",
    "        '''\n",
    "\n",
    "        self.set_map = copy.deepcopy(set_map)\n",
    "        self.transform=transform\n",
    "\n",
    "        if classes:\n",
    "            for sample in self.set_map:\n",
    "                sample['label'] = classes[sample['label']]\n",
    "        if domains:\n",
    "            for sample in self.set_map:\n",
    "                sample['domain'] = domains[sample['domain']]\n",
    "\n",
    "        self.classes = classes\n",
    "        self.doamins = domains\n",
    "        self.data_path = data_path\n",
    "\n",
    "    def __len__(self):\n",
    "        return len(self.set_map)\n",
    "    \n",
    "    def __getitem__(self, index):   \n",
    "        sample = self.set_map[index]\n",
    "        image = Image.open(os.path.join(self.data_path, sample['img_path']))\n",
    "\n",
    "        if self.transform:\n",
    "            image = self.transform(image)\n",
    "\n",
    "        return dict(image=image, **sample)"
   ]
  },
  {
   "cell_type": "code",
   "execution_count": 6,
   "id": "ceb1573a",
   "metadata": {},
   "outputs": [],
   "source": [
    "with open('./test.json') as f:\n",
    "    test_set_map = json.load(f)"
   ]
  },
  {
   "cell_type": "code",
   "execution_count": 7,
   "id": "bcc1e281",
   "metadata": {},
   "outputs": [],
   "source": [
    "dataset = ImageDataset('/data/PACS', test_set_map, transform=transform)\n",
    "loader = DataLoader(dataset, batch_size=BS, shuffle=False)"
   ]
  },
  {
   "cell_type": "markdown",
   "id": "8f483aa3",
   "metadata": {},
   "source": [
    "### 0. Embed"
   ]
  },
  {
   "cell_type": "code",
   "execution_count": 8,
   "id": "fd35c85f",
   "metadata": {},
   "outputs": [],
   "source": [
    "def get_backbone_from_ckpt(ckpt_path: str) -> torch.nn.Module:\n",
    "    state_dict = torch.load(ckpt_path)[\"state_dict\"]\n",
    "    state_dict = OrderedDict([\n",
    "        (\".\".join(name.split(\".\")[1:]), param) for name, param in state_dict.items() if name.startswith(\"backbone\")\n",
    "    ])\n",
    "\n",
    "    return state_dict"
   ]
  },
  {
   "cell_type": "code",
   "execution_count": 9,
   "id": "9160f3a8",
   "metadata": {},
   "outputs": [],
   "source": [
    "weights = get_backbone_from_ckpt(\"/home/yasin/repos/dispatch_smol/notebooks/data/r50_ms.ckpt\")"
   ]
  },
  {
   "cell_type": "code",
   "execution_count": 10,
   "id": "64ef4d5b",
   "metadata": {},
   "outputs": [],
   "source": [
    "model = resnet50()\n",
    "model.load_state_dict(weights, strict=False)\n",
    "model.fc = torch.nn.Identity()\n",
    "_ = model.eval()"
   ]
  },
  {
   "cell_type": "code",
   "execution_count": 11,
   "id": "9d2d0060",
   "metadata": {},
   "outputs": [
    {
     "name": "stderr",
     "output_type": "stream",
     "text": [
      "100%|██████████| 16/16 [00:07<00:00,  2.22it/s]\n"
     ]
    }
   ],
   "source": [
    "X=[]; Y=[]; D=[]\n",
    "with torch.no_grad():\n",
    "    for batch in tqdm(loader):\n",
    "        x, y, d = batch['image'], batch['label'], batch['domain']\n",
    "        \n",
    "        y = torch.tensor(list(map(classes.get, y)))\n",
    "        d = torch.tensor(list(map(domains.get, d)))\n",
    "        \n",
    "        X.append(model(x))\n",
    "        Y.append(y)\n",
    "        D.append(d)\n",
    "X = torch.cat(X, dim=0).contiguous(); Y = torch.cat(Y, dim=0).contiguous(); D = torch.cat(D, dim=0).contiguous()"
   ]
  },
  {
   "cell_type": "markdown",
   "id": "8256b742",
   "metadata": {},
   "source": [
    "### 1. Group by Y and D and Exclude same group"
   ]
  },
  {
   "cell_type": "code",
   "execution_count": 12,
   "id": "2b51af81",
   "metadata": {},
   "outputs": [],
   "source": [
    "q_idx = 987\n",
    "q = X[q_idx:q_idx+1]"
   ]
  },
  {
   "cell_type": "code",
   "execution_count": 13,
   "id": "cc5ecb15",
   "metadata": {},
   "outputs": [
    {
     "data": {
      "text/plain": [
       "(tensor(1), tensor(0))"
      ]
     },
     "execution_count": 13,
     "metadata": {},
     "output_type": "execute_result"
    }
   ],
   "source": [
    "Y[q_idx], D[q_idx]"
   ]
  },
  {
   "cell_type": "code",
   "execution_count": 14,
   "id": "107bb705",
   "metadata": {},
   "outputs": [],
   "source": [
    "valid = ~((D == D[q_idx]) & (Y == Y[q_idx])).squeeze()"
   ]
  },
  {
   "cell_type": "code",
   "execution_count": 15,
   "id": "27c3c549",
   "metadata": {},
   "outputs": [],
   "source": [
    "X_, Y_, D_ = X[valid], Y[valid], D[valid]"
   ]
  },
  {
   "cell_type": "markdown",
   "id": "ced34b83",
   "metadata": {},
   "source": [
    "### 2. fais k-nn"
   ]
  },
  {
   "cell_type": "code",
   "execution_count": 16,
   "id": "cb657113",
   "metadata": {},
   "outputs": [],
   "source": [
    "index = faiss.IndexFlatIP(emb_dim)"
   ]
  },
  {
   "cell_type": "code",
   "execution_count": 17,
   "id": "a8ada586",
   "metadata": {},
   "outputs": [],
   "source": [
    "index.add(X_)"
   ]
  },
  {
   "cell_type": "code",
   "execution_count": 18,
   "id": "18ad7a34",
   "metadata": {},
   "outputs": [],
   "source": [
    "_, neighbors = index.search(q, 1000)"
   ]
  },
  {
   "cell_type": "code",
   "execution_count": 19,
   "id": "8a790ca1",
   "metadata": {},
   "outputs": [
    {
     "data": {
      "text/plain": [
       "tensor([[5, 5, 5, 0, 5, 5, 5, 5, 0, 5, 0, 6, 0, 5, 5, 5, 5, 0, 4, 5, 5, 2, 5, 5,\n",
       "         3, 5, 1, 2, 0, 2, 5, 2, 3, 0, 2, 2, 5, 5, 5, 2, 2, 2, 5, 3, 5, 5, 2, 1,\n",
       "         5, 6, 5, 5, 5, 2, 5, 2, 0, 1, 6, 5, 1, 2, 2, 5, 2, 2, 3, 5, 1, 5, 6, 1,\n",
       "         5, 2, 2, 3, 5, 2, 0, 0, 6, 5, 2, 2, 3, 6, 1, 3, 4, 5, 1, 0, 5, 5, 3, 1,\n",
       "         2, 0, 4, 5, 2, 3, 2, 6, 1, 2, 4, 2, 5, 4, 1, 2, 2, 6, 4, 3, 5, 2, 0, 6,\n",
       "         0, 6, 1, 5, 0, 5, 0, 5, 0, 1, 1, 5, 6, 5, 2, 0, 1, 1, 1, 6, 1, 6, 1, 4,\n",
       "         6, 6, 1, 1, 0, 4, 0, 1, 6, 4, 2, 1, 6, 1, 1, 0, 0, 2, 5, 0, 5, 1, 3, 6,\n",
       "         5, 0, 2, 4, 0, 6, 1, 4, 1, 0, 4, 1, 0, 5, 0, 6, 1, 1, 5, 2, 2, 6, 5, 0,\n",
       "         6, 6, 0, 5, 5, 4, 2, 0, 4, 4, 2, 5, 3, 0, 5, 1, 5, 2, 0, 6, 5, 6, 5, 0,\n",
       "         6, 6, 1, 5, 0, 5, 4, 0, 4, 6, 6, 4, 0, 2, 5, 6, 0, 6, 0, 2, 5, 4, 5, 4,\n",
       "         2, 6, 4, 6, 0, 0, 0, 0, 5, 2, 2, 5, 6, 6, 6, 0, 5, 6, 6, 6, 4, 6, 2, 0,\n",
       "         6, 6, 0, 6, 0, 5, 0, 4, 5, 2, 4, 6, 2, 0, 5, 4, 0, 5, 0, 4, 0, 0, 6, 0,\n",
       "         6, 2, 0, 6, 1, 4, 0, 0, 4, 6, 2, 0, 0, 5, 0, 0, 5, 4, 0, 6, 0, 0, 1, 6,\n",
       "         2, 0, 6, 0, 0, 0, 0, 1, 6, 2, 6, 6, 0, 6, 0, 2, 6, 6, 6, 6, 6, 1, 6, 2,\n",
       "         0, 6, 6, 0, 2, 5, 0, 6, 0, 6, 2, 4, 2, 0, 6, 0, 1, 6, 5, 4, 1, 0, 2, 4,\n",
       "         0, 5, 4, 6, 3, 6, 2, 6, 6, 6, 6, 4, 4, 6, 2, 5, 2, 0, 2, 4, 0, 1, 6, 6,\n",
       "         5, 4, 6, 2, 1, 4, 1, 4, 0, 5, 0, 2, 0, 0, 6, 6, 0, 2, 0, 6, 6, 4, 2, 4,\n",
       "         6, 2, 2, 6, 4, 5, 1, 4, 6, 3, 0, 1, 0, 6, 4, 6, 4, 3, 0, 0, 3, 4, 0, 0,\n",
       "         6, 1, 4, 5, 0, 4, 0, 0, 0, 4, 0, 4, 2, 5, 6, 6, 6, 0, 6, 2, 0, 6, 6, 6,\n",
       "         5, 6, 6, 0, 4, 4, 6, 0, 6, 0, 6, 5, 4, 5, 5, 0, 6, 6, 4, 0, 6, 2, 2, 3,\n",
       "         4, 0, 6, 0, 3, 5, 2, 0, 6, 4, 6, 2, 1, 2, 4, 2, 4, 6, 0, 5, 4, 0, 5, 6,\n",
       "         0, 6, 0, 0, 0, 4, 0, 6, 0, 6, 4, 4, 4, 3, 0, 2, 4, 4, 5, 0, 4, 4, 6, 0,\n",
       "         1, 4, 0, 6, 0, 4, 4, 6, 5, 4, 0, 1, 4, 0, 6, 0, 3, 0, 0, 4, 5, 5, 5, 6,\n",
       "         1, 4, 4, 2, 0, 0, 4, 4, 2, 6, 1, 0, 4, 4, 4, 0, 3, 2, 0, 5, 4, 5, 0, 0,\n",
       "         3, 5, 3, 0, 4, 2, 2, 0, 5, 5, 4, 5, 5, 3, 3, 3, 3, 0, 5, 2, 6, 4, 0, 2,\n",
       "         6, 1, 4, 2, 3, 3, 0, 5, 3, 4, 0, 2, 5, 0, 3, 0, 3, 5, 0, 3, 0, 0, 5, 0,\n",
       "         3, 5, 5, 4, 3, 6, 2, 6, 5, 5, 0, 0, 4, 4, 1, 3, 1, 5, 5, 6, 4, 4, 2, 0,\n",
       "         1, 4, 4, 0, 6, 0, 5, 0, 4, 5, 0, 5, 3, 5, 1, 1, 0, 5, 6, 1, 4, 0, 3, 4,\n",
       "         3, 4, 5, 3, 0, 1, 4, 0, 1, 5, 4, 5, 4, 3, 6, 0, 6, 5, 1, 3, 3, 2, 4, 4,\n",
       "         0, 2, 0, 0, 4, 4, 5, 2, 3, 4, 3, 3, 4, 4, 1, 4, 5, 6, 2, 4, 0, 1, 4, 4,\n",
       "         3, 2, 3, 3, 6, 6, 6, 4, 2, 1, 0, 6, 5, 6, 0, 5, 5, 3, 5, 2, 0, 2, 4, 3,\n",
       "         5, 3, 1, 3, 4, 0, 3, 0, 3, 3, 0, 5, 1, 3, 2, 0, 5, 5, 6, 3, 3, 6, 6, 1,\n",
       "         6, 6, 3, 0, 0, 2, 5, 0, 3, 4, 0, 4, 1, 3, 6, 3, 4, 5, 3, 4, 3, 2, 4, 5,\n",
       "         3, 6, 4, 3, 1, 5, 6, 3, 0, 2, 4, 6, 1, 3, 4, 5, 3, 3, 3, 0, 1, 3, 3, 3,\n",
       "         2, 3, 3, 0, 2, 6, 1, 5, 6, 3, 3, 1, 1, 1, 4, 3, 6, 3, 5, 4, 3, 3, 5, 4,\n",
       "         6, 3, 0, 3, 5, 4, 4, 6, 3, 4, 4, 6, 4, 6, 1, 3, 3, 1, 4, 3, 1, 1, 1, 5,\n",
       "         3, 1, 6, 0, 0, 0, 1, 1, 6, 6, 3, 4, 3, 6, 0, 0, 6, 3, 3, 5, 6, 3, 0, 1,\n",
       "         1, 6, 0, 4, 2, 6, 0, 6, 2, 4, 6, 2, 2, 0, 4, 6, 1, 3, 3, 3, 6, 6, 2, 6,\n",
       "         6, 6, 6, 1, 3, 6, 3, 3, 3, 3, 3, 3, 3, 3, 3, 3, 3, 3, 3, 3, 3, 3, 3, 3,\n",
       "         3, 3, 3, 3, 3, 3, 3, 3, 3, 3, 3, 3, 3, 3, 3, 3, 3, 3, 3, 3, 3, 3, 3, 3,\n",
       "         3, 3, 3, 3, 3, 3, 3, 3, 3, 3, 3, 3, 3, 3, 3, 3, 3, 3, 3, 3, 3, 3, 3, 3,\n",
       "         3, 3, 3, 3, 3, 3, 3, 3, 3, 3, 3, 3, 3, 3, 3, 3]])"
      ]
     },
     "execution_count": 19,
     "metadata": {},
     "output_type": "execute_result"
    }
   ],
   "source": [
    "Y_[neighbors]"
   ]
  },
  {
   "cell_type": "code",
   "execution_count": 20,
   "id": "c97e32b7",
   "metadata": {},
   "outputs": [
    {
     "data": {
      "text/plain": [
       "tensor([[0, 0, 0, 0, 0, 0, 0, 0, 0, 0, 0, 0, 0, 0, 0, 0, 0, 0, 1, 0, 0, 1, 0, 0,\n",
       "         0, 0, 1, 0, 0, 0, 0, 0, 0, 0, 0, 1, 0, 0, 0, 1, 0, 1, 0, 0, 0, 0, 0, 1,\n",
       "         0, 0, 0, 0, 0, 1, 0, 0, 0, 1, 0, 0, 1, 0, 0, 1, 0, 0, 0, 0, 1, 0, 1, 1,\n",
       "         0, 0, 0, 0, 0, 0, 0, 0, 1, 1, 3, 1, 0, 1, 1, 0, 1, 0, 1, 0, 1, 0, 0, 3,\n",
       "         1, 0, 1, 1, 0, 0, 0, 1, 1, 1, 1, 0, 0, 1, 3, 0, 0, 0, 1, 1, 0, 0, 0, 0,\n",
       "         1, 0, 1, 0, 0, 0, 0, 1, 0, 3, 1, 1, 0, 0, 3, 0, 1, 1, 1, 0, 1, 0, 3, 1,\n",
       "         0, 1, 3, 1, 0, 0, 0, 1, 0, 0, 1, 3, 1, 1, 1, 0, 0, 1, 0, 0, 1, 3, 1, 0,\n",
       "         0, 0, 0, 1, 0, 0, 1, 1, 1, 0, 1, 2, 0, 0, 0, 1, 1, 1, 3, 0, 3, 0, 1, 0,\n",
       "         1, 0, 0, 1, 1, 0, 0, 0, 3, 0, 0, 0, 1, 0, 0, 1, 1, 3, 0, 0, 1, 0, 0, 0,\n",
       "         1, 0, 1, 1, 2, 0, 3, 0, 1, 0, 0, 3, 1, 3, 1, 0, 0, 0, 0, 0, 1, 2, 1, 0,\n",
       "         1, 0, 0, 0, 1, 2, 0, 0, 1, 0, 0, 1, 0, 0, 0, 0, 1, 0, 0, 0, 3, 0, 1, 1,\n",
       "         0, 0, 1, 1, 0, 0, 3, 0, 0, 0, 0, 0, 0, 0, 1, 1, 0, 1, 2, 3, 3, 1, 0, 1,\n",
       "         0, 0, 1, 1, 2, 1, 0, 0, 1, 0, 0, 1, 0, 1, 1, 1, 1, 3, 0, 1, 0, 2, 2, 0,\n",
       "         0, 1, 0, 1, 0, 1, 0, 2, 1, 0, 0, 0, 0, 0, 1, 0, 0, 0, 1, 1, 0, 3, 0, 0,\n",
       "         1, 0, 0, 2, 3, 1, 0, 1, 0, 1, 0, 0, 0, 2, 0, 0, 1, 0, 1, 1, 1, 0, 0, 1,\n",
       "         0, 3, 3, 0, 1, 1, 0, 0, 0, 0, 0, 3, 0, 0, 0, 0, 0, 1, 2, 1, 2, 2, 1, 1,\n",
       "         1, 3, 1, 0, 1, 1, 3, 1, 0, 3, 3, 2, 1, 2, 0, 0, 0, 0, 0, 0, 1, 1, 0, 3,\n",
       "         1, 3, 2, 1, 3, 0, 2, 1, 0, 1, 0, 2, 1, 0, 1, 1, 1, 1, 1, 1, 3, 1, 0, 2,\n",
       "         0, 1, 2, 0, 2, 1, 1, 1, 3, 1, 1, 2, 0, 0, 1, 0, 1, 1, 0, 0, 1, 0, 0, 2,\n",
       "         2, 1, 1, 1, 1, 3, 0, 1, 0, 3, 0, 1, 3, 3, 1, 1, 0, 1, 1, 1, 0, 0, 0, 1,\n",
       "         2, 2, 1, 1, 1, 3, 0, 1, 1, 1, 1, 0, 1, 2, 3, 2, 3, 1, 1, 1, 2, 3, 2, 1,\n",
       "         1, 1, 1, 3, 2, 1, 3, 0, 0, 0, 1, 3, 1, 1, 3, 0, 2, 3, 0, 1, 3, 2, 0, 1,\n",
       "         3, 2, 1, 0, 2, 1, 1, 1, 1, 3, 2, 2, 1, 1, 1, 1, 2, 1, 1, 3, 0, 3, 1, 0,\n",
       "         3, 3, 3, 0, 2, 1, 3, 1, 3, 1, 2, 2, 2, 3, 1, 3, 1, 0, 0, 0, 3, 1, 1, 1,\n",
       "         3, 3, 2, 1, 1, 0, 0, 2, 0, 1, 3, 3, 2, 3, 1, 2, 2, 1, 1, 2, 2, 3, 2, 0,\n",
       "         2, 2, 1, 0, 3, 1, 1, 0, 3, 2, 2, 0, 3, 2, 2, 3, 1, 1, 3, 3, 2, 3, 3, 3,\n",
       "         3, 1, 2, 2, 1, 0, 3, 2, 3, 2, 2, 2, 3, 2, 2, 3, 3, 2, 2, 2, 2, 2, 2, 2,\n",
       "         2, 2, 3, 2, 2, 2, 3, 3, 2, 2, 3, 0, 2, 2, 2, 3, 1, 0, 2, 3, 2, 2, 3, 2,\n",
       "         1, 2, 0, 2, 2, 2, 2, 2, 2, 2, 2, 0, 2, 1, 2, 3, 2, 0, 2, 2, 1, 2, 2, 2,\n",
       "         2, 2, 2, 1, 1, 2, 0, 3, 3, 2, 2, 2, 2, 2, 3, 2, 2, 2, 3, 2, 3, 2, 1, 2,\n",
       "         3, 3, 1, 1, 2, 1, 3, 1, 3, 2, 3, 2, 3, 3, 3, 0, 0, 3, 3, 3, 2, 3, 2, 3,\n",
       "         3, 2, 2, 2, 2, 3, 3, 3, 3, 1, 3, 2, 2, 3, 3, 2, 3, 3, 2, 1, 2, 2, 2, 2,\n",
       "         2, 3, 2, 2, 3, 2, 0, 3, 3, 2, 3, 3, 1, 1, 2, 1, 3, 2, 3, 2, 1, 2, 2, 2,\n",
       "         1, 3, 2, 2, 3, 3, 2, 3, 2, 2, 2, 3, 3, 3, 2, 3, 3, 3, 3, 1, 2, 3, 3, 3,\n",
       "         2, 3, 1, 2, 3, 1, 2, 3, 2, 2, 2, 2, 3, 2, 1, 2, 3, 1, 2, 2, 3, 3, 2, 2,\n",
       "         2, 2, 2, 2, 3, 2, 2, 3, 1, 2, 2, 2, 2, 3, 2, 1, 2, 2, 2, 2, 2, 2, 2, 2,\n",
       "         3, 2, 2, 2, 2, 2, 2, 2, 3, 2, 3, 1, 1, 3, 2, 2, 2, 3, 1, 1, 2, 2, 1, 2,\n",
       "         3, 2, 2, 2, 3, 2, 3, 2, 2, 2, 2, 2, 2, 3, 2, 3, 2, 3, 1, 3, 2, 3, 3, 2,\n",
       "         3, 3, 3, 2, 2, 3, 1, 1, 1, 1, 1, 1, 1, 1, 1, 1, 1, 1, 1, 1, 1, 1, 1, 1,\n",
       "         1, 1, 1, 1, 1, 1, 1, 1, 1, 1, 1, 1, 1, 1, 1, 1, 1, 1, 1, 1, 1, 1, 1, 1,\n",
       "         1, 1, 1, 1, 1, 1, 1, 1, 1, 1, 1, 1, 1, 1, 1, 1, 1, 1, 1, 1, 1, 1, 1, 1,\n",
       "         1, 1, 1, 1, 1, 1, 1, 1, 1, 1, 1, 1, 1, 1, 1, 1]])"
      ]
     },
     "execution_count": 20,
     "metadata": {},
     "output_type": "execute_result"
    }
   ],
   "source": [
    "D_[neighbors]"
   ]
  }
 ],
 "metadata": {
  "kernelspec": {
   "display_name": "base",
   "language": "python",
   "name": "python3"
  },
  "language_info": {
   "codemirror_mode": {
    "name": "ipython",
    "version": 3
   },
   "file_extension": ".py",
   "mimetype": "text/x-python",
   "name": "python",
   "nbconvert_exporter": "python",
   "pygments_lexer": "ipython3",
   "version": "3.10.14"
  }
 },
 "nbformat": 4,
 "nbformat_minor": 5
}
