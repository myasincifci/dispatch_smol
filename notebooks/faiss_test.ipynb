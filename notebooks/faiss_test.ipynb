{
 "cells": [
  {
   "cell_type": "code",
   "execution_count": 1,
   "metadata": {},
   "outputs": [],
   "source": [
    "import numpy as np\n",
    "import torch\n",
    "import faiss\n",
    "import faiss.contrib.torch_utils"
   ]
  },
  {
   "cell_type": "code",
   "execution_count": 2,
   "metadata": {},
   "outputs": [],
   "source": [
    "d = 2048                         # dimension\n",
    "nb = 400_000                      # database size\n",
    "# nq = 100_000                       # nb of queries\n",
    "np.random.seed(1234)             # make reproducible\n",
    "\n",
    "# xb = np.random.random((nb, d)).astype('float32')\n",
    "# xb[:, 0] += np.arange(nb) / 1000.\n",
    "# xq = np.random.random((nq, d)).astype('float32')\n",
    "# xq[:, 0] += np.arange(nq) / 1000.\n",
    "\n",
    "xb = torch.rand((nb, d), device='cuda:0', dtype=torch.float32)\n",
    "xb[:, 0] += torch.arange(nb, device='cuda:0') / 1000.\n",
    "# xq = torch.rand((nq, d), device='cuda:0', dtype=torch.float32)\n",
    "# xq[:, 0] += torch.arange(nq, device='cuda:0') / 1000."
   ]
  },
  {
   "cell_type": "code",
   "execution_count": 3,
   "metadata": {},
   "outputs": [],
   "source": [
    "res = faiss.StandardGpuResources()  # use a single GPU"
   ]
  },
  {
   "cell_type": "code",
   "execution_count": 4,
   "metadata": {},
   "outputs": [],
   "source": [
    "nlist = 100\n",
    "# build a flat (CPU) index\n",
    "gpu_index_flat = faiss.GpuIndexFlatL2(res, d)\n",
    "# make it into a gpu index\n",
    "# gpu_index_flat = faiss.index_cpu_to_gpu(res, 0, index_flat)"
   ]
  },
  {
   "cell_type": "code",
   "execution_count": 6,
   "metadata": {},
   "outputs": [
    {
     "name": "stdout",
     "output_type": "stream",
     "text": [
      "200000\n"
     ]
    },
    {
     "name": "stderr",
     "output_type": "stream",
     "text": [
      "/home/yasin/anaconda3/envs/py310/lib/python3.10/site-packages/faiss/contrib/torch_utils.py:51: UserWarning: TypedStorage is deprecated. It will be removed in the future and UntypedStorage will be the only storage class. This should only matter to you if you are using storages directly.  To access UntypedStorage directly, use tensor.untyped_storage() instead of tensor.storage()\n",
      "  x.storage().data_ptr() + x.storage_offset() * 4)\n"
     ]
    }
   ],
   "source": [
    "gpu_index_flat.add(xb)         # add vectors to the index\n",
    "print(gpu_index_flat.ntotal)"
   ]
  },
  {
   "cell_type": "code",
   "execution_count": 7,
   "metadata": {},
   "outputs": [
    {
     "name": "stdout",
     "output_type": "stream",
     "text": [
      "tensor([[ 706, 1171,  975, 1680, 1864, 1375, 1644,  335, 2007,  191],\n",
      "        [ 651,  215, 1532, 1651,  147, 1146,  892,  371,  436,  400],\n",
      "        [1285,  300, 2695, 1143, 1934, 3096, 1026,  836,  664, 1776],\n",
      "        [ 906,  202, 2965,  910,  604, 1192, 2006, 2341, 2429,  968],\n",
      "        [1092, 3209, 1024, 2283, 1284,  191,   96,  659, 1306,  195]],\n",
      "       device='cuda:0')\n",
      "tensor([[ 98086,  99700, 100283,  99983,  97837, 100412,  98513, 100179,  97918,\n",
      "          98974],\n",
      "        [100671, 100348, 100330,  98867,  98239, 100205, 100281, 100312,  99379,\n",
      "          98484],\n",
      "        [ 99813, 101268, 101288, 100231,  98875, 101913,  98276,  99230,  99945,\n",
      "         101175],\n",
      "        [100014,  98072,  98099,  99725, 101310, 100694,  99239, 100072,  99165,\n",
      "         100861],\n",
      "        [101577,  99241,  99771, 100348, 100301, 101323,  98939, 100738, 101209,\n",
      "         100453]], device='cuda:0')\n"
     ]
    }
   ],
   "source": [
    "k = 10                          # we want to see 4 nearest neighbors\n",
    "D, I = gpu_index_flat.search(xq, k)  # actual search\n",
    "print(I[:5])                   # neighbors of the 5 first queries\n",
    "print(I[-5:])                  # neighbors of the 5 last queries"
   ]
  }
 ],
 "metadata": {
  "kernelspec": {
   "display_name": "base",
   "language": "python",
   "name": "python3"
  },
  "language_info": {
   "codemirror_mode": {
    "name": "ipython",
    "version": 3
   },
   "file_extension": ".py",
   "mimetype": "text/x-python",
   "name": "python",
   "nbconvert_exporter": "python",
   "pygments_lexer": "ipython3",
   "version": "3.10.14"
  }
 },
 "nbformat": 4,
 "nbformat_minor": 2
}
